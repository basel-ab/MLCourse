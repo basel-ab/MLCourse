{
  "nbformat": 4,
  "nbformat_minor": 0,
  "metadata": {
    "colab": {
      "provenance": [],
      "authorship_tag": "ABX9TyPEBOL39kzFIM22JHYcFqPl",
      "include_colab_link": true
    },
    "kernelspec": {
      "name": "python3",
      "display_name": "Python 3"
    },
    "language_info": {
      "name": "python"
    }
  },
  "cells": [
    {
      "cell_type": "markdown",
      "metadata": {
        "id": "view-in-github",
        "colab_type": "text"
      },
      "source": [
        "<a href=\"https://colab.research.google.com/github/sanadv/MLCourse/blob/main/Lab_2.ipynb\" target=\"_parent\"><img src=\"https://colab.research.google.com/assets/colab-badge.svg\" alt=\"Open In Colab\"/></a>"
      ]
    },
    {
      "cell_type": "code",
      "execution_count": null,
      "metadata": {
        "id": "zMoZztU_NCFv"
      },
      "outputs": [],
      "source": [
        "import pandas as pd\n",
        "from sklearn.model_selection import train_test_split\n",
        "from sklearn.preprocessing import LabelEncoder\n",
        "from sklearn.naive_bayes import GaussianNB\n",
        "from sklearn.metrics import accuracy_score, classification_report, log_loss\n",
        "\n",
        "# Load the data\n",
        "df = pd.read_csv('ds3.csv')\n",
        "\n",
        "# Convert categorical variables to numeric variables\n",
        "le = LabelEncoder()\n",
        "categorical_cols = df.select_dtypes(include=['object']).columns\n",
        "df[categorical_cols] = df[categorical_cols].apply(lambda col: le.fit_transform(col))\n",
        "\n",
        "# Separate features and target\n",
        "X = df.drop('Response', axis=1)\n",
        "y = df['Response']\n",
        "\n",
        "# Split data into training, validation, and test sets\n",
        "X_train, X_val_test, y_train, y_val_test = train_test_split(X, y, test_size=0.3, random_state=42)\n",
        "X_val, X_test, y_val, y_test = train_test_split(X_val_test, y_val_test, test_size=0.5, random_state=42)\n",
        "\n",
        "# Initialize and fit the model on the training set\n",
        "model = GaussianNB()\n",
        "model.fit(X_train, y_train)\n",
        "\n",
        "# Make predictions on the training set and calculate loss\n",
        "y_pred_train = model.predict(X_train)\n",
        "y_pred_train_proba = model.predict_proba(X_train)\n",
        "train_accuracy = accuracy_score(y_train, y_pred_train)\n",
        "train_loss = log_loss(y_train, y_pred_train_proba)\n",
        "\n",
        "# Make predictions on the validation set and calculate loss\n",
        "y_pred_val = model.predict(X_val)\n",
        "y_pred_val_proba = model.predict_proba(X_val)\n",
        "val_accuracy = accuracy_score(y_val, y_pred_val)\n",
        "val_loss = log_loss(y_val, y_pred_val_proba)\n",
        "\n",
        "# Print training and validation loss and accuracy\n",
        "print(\"Training Loss: %.2f\" % train_loss)\n",
        "print(\"Training Accuracy: %.2f%%\" % (train_accuracy * 100.0))\n",
        "print(\"Validation Loss: %.2f\" % val_loss)\n",
        "print(\"Validation Accuracy: %.2f%%\" % (val_accuracy * 100.0))\n",
        "\n",
        "# Print precision, recall, and F1 score for the validation set\n",
        "print(classification_report(y_val, y_pred_val))\n"
      ]
    }
  ]
}